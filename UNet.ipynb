{
 "cells": [
  {
   "cell_type": "code",
   "execution_count": 16,
   "id": "03028152-e80b-4477-bf9b-9d4dc7b9133f",
   "metadata": {},
   "outputs": [],
   "source": [
    "import os\n",
    "import torch\n",
    "from PIL import Image\n",
    "from torch import nn\n",
    "from torch.utils.data import Dataset\n",
    "from torch.utils.data import DataLoader, random_split\n",
    "from torch import optim\n",
    "import torchvision\n",
    "import matplotlib.pyplot as plt\n",
    "import numpy as np\n",
    "from tqdm import tqdm\n",
    "import imageio\n",
    "from torchmetrics.classification import MulticlassJaccardIndex\n",
    "\n",
    "%matplotlib inline"
   ]
  },
  {
   "cell_type": "code",
   "execution_count": 17,
   "id": "eff73e73-0f80-4384-aa4c-b4b9e86374d2",
   "metadata": {},
   "outputs": [],
   "source": [
    "class CarvanaImageMaskingChallangeDataset(Dataset):\n",
    "    PATH_TO_IMGS = \"/home/jurica/Desktop/projekt/Pytorch-UNet/data/imgs\"\n",
    "    PATH_TO_MASKS = \"/home/jurica/Desktop/projekt/Pytorch-UNet/data/masks\"\n",
    "    IMG_EXT = \".jpg\"\n",
    "    MASK_EXT = \"_mask.gif\"\n",
    "    \n",
    "    def __init__(self):\n",
    "        assert len(os.listdir(self.PATH_TO_IMGS)) == len(os.listdir(self.PATH_TO_MASKS))\n",
    "\n",
    "        # Each car has exactly 16 images, each one taken at different angles.\n",
    "        # Each car has a unique id and images are named according to id_01.jpg, id_02.jpg … id_16.jpg.\n",
    "        self.img_ids = [os.path.splitext(img)[0] for img in os.listdir(self.PATH_TO_IMGS)]\n",
    "\n",
    "        # black: background\n",
    "        # white: car\n",
    "        self.mask_values = [[0,0,0], [255,255,255]]\n",
    "\n",
    "    def __len__(self):\n",
    "        return len(self.img_ids)\n",
    "\n",
    "    def __getitem__(self, idx):\n",
    "        img_name = self.img_ids[idx] + self.IMG_EXT\n",
    "        img_path = os.path.join(self.PATH_TO_IMGS, img_name)\n",
    "\n",
    "        mask_name = self.img_ids[idx] + self.MASK_EXT\n",
    "        mask_path = os.path.join(self.PATH_TO_MASKS, mask_name)\n",
    "        \n",
    "        img_raw = Image.open(img_path)\n",
    "        mask_raw = Image.open(mask_path)\n",
    "        \n",
    "        img, mask = self.preprocess(img_raw, mask_raw)\n",
    "        \n",
    "        return {\"image\": img, \"mask\": mask}\n",
    "\n",
    "    def preprocess(self, img, mask):\n",
    "        img = np.asarray(img.resize((572,572), resample=Image.Resampling.BICUBIC))\n",
    "        # convert to RGB for black&white mask\n",
    "        mask = np.asarray(mask.resize((572,572), resample=Image.Resampling.BICUBIC).convert(\"RGB\")) \n",
    "        \n",
    "        # create ground truth for cross entropy loss\n",
    "        mask_with_classes = np.zeros((572, 572), dtype=np.int64)\n",
    "        for c, mask_class_pixel_value in enumerate(self.mask_values):\n",
    "            # (img == v) creates new np array, (img==v).shape == img.shape\n",
    "            # (img==v)[i] -> [True, False, True] (comparing corresponding pixel components with corresponding v components)\n",
    "            # (img==v).all(-1) creates new np array\n",
    "            # x.all(-1) checks if every element of x along -1 (last) dimension is True\n",
    "            # (img==v).all(-1).shape == (H, W)\n",
    "            # in this case, check which (img==v)[i] is equal to [True, True, True] (pixel matches class v)\n",
    "            \n",
    "            # set pixel class to be i for every pixel in original mask image\n",
    "            # if pixel values along all channels (-1) correspondingly match values of class i\n",
    "            mask_with_classes[(mask == mask_class_pixel_value).all(-1)] = c\n",
    "        \n",
    "        # swap color axis\n",
    "        # numpy image: H x W x C\n",
    "        # torch image: C x H x W\n",
    "        img = img.transpose((2, 0, 1))\n",
    "\n",
    "        # normalize pixels?\n",
    "        img = img / 255.0\n",
    "\n",
    "        img_tensor = torch.tensor(img.copy()).float()\n",
    "        \n",
    "        mask_tensor = torch.tensor(mask_with_classes.copy()).long()\n",
    "        \n",
    "        return img_tensor, mask_tensor"
   ]
  },
  {
   "cell_type": "code",
   "execution_count": 18,
   "id": "05bae670-5822-4531-bc75-fa044ecadc2e",
   "metadata": {},
   "outputs": [
    {
     "data": {
      "text/plain": [
       "<matplotlib.image.AxesImage at 0x7f716aa73100>"
      ]
     },
     "execution_count": 18,
     "metadata": {},
     "output_type": "execute_result"
    },
    {
     "data": {
      "image/png": "[encoded data removed]",
      "text/plain": [
       "<Figure size 640x480 with 1 Axes>"
      ]
     },
     "metadata": {},
     "output_type": "display_data"
    }
   ],
   "source": [
    "d = CarvanaImageMaskingChallangeDataset()\n",
    "example = d[1337][\"image\"]\n",
    "example_mask = d[1337][\"mask\"]\n",
    "\n",
    "plt.imshow(example.numpy().astype(np.int32).transpose(1,2,0))"
   ]
  },
  {
   "cell_type": "code",
   "execution_count": 19,
   "id": "d75d4536-83ce-4ab7-a16d-9b1966eeb207",
   "metadata": {},
   "outputs": [
    {
     "data": {
      "text/plain": [
       "<matplotlib.image.AxesImage at 0x7f716aa944c0>"
      ]
     },
     "execution_count": 19,
     "metadata": {},
     "output_type": "execute_result"
    },
    {
     "data": {
      "image/png": "[encoded data removed]",
      "text/plain": [
       "<Figure size 640x480 with 1 Axes>"
      ]
     },
     "metadata": {},
     "output_type": "display_data"
    }
   ],
   "source": [
    "plt.imshow(example_mask.numpy())"
   ]
  },
  {
   "cell_type": "code",
   "execution_count": 20,
   "id": "b1767549-07ea-4598-90d0-bd22a2ca4ed0",
   "metadata": {},
   "outputs": [],
   "source": [
    "class EncoderBlock(nn.Module):\n",
    "    def __init__(self, input_volume_channels, output_volume_channels):\n",
    "        super().__init__()\n",
    "        \n",
    "        self.seq = nn.Sequential(\n",
    "            nn.Conv2d(input_volume_channels, output_volume_channels, kernel_size=3),\n",
    "            nn.BatchNorm2d(output_volume_channels),\n",
    "            nn.ReLU(inplace=True),\n",
    "            \n",
    "            nn.Conv2d(output_volume_channels, output_volume_channels, kernel_size=3),\n",
    "            nn.BatchNorm2d(output_volume_channels),\n",
    "            nn.ReLU(inplace=True)\n",
    "        )\n",
    "    \n",
    "    def forward(self, x):\n",
    "        return self.seq(x)\n",
    "\n",
    "class DecoderBlock(nn.Module):\n",
    "    def __init__(self, input_volume_channels, output_volume_channels):\n",
    "        super().__init__()\n",
    "        self.deconv = nn.ConvTranspose2d(input_volume_channels, output_volume_channels, kernel_size=2, stride=2)\n",
    "        self.double_conv = EncoderBlock(input_volume_channels, output_volume_channels)\n",
    "    \n",
    "    def forward(self, x, encoder_feature_map):\n",
    "        deconv_ret = self.deconv(x)\n",
    "\n",
    "        # deconv_ret.shape[2] -> H\n",
    "        crop_fmap = torchvision.transforms.CenterCrop(deconv_ret.shape[2])(encoder_feature_map)\n",
    "\n",
    "        # concat along \"channel\" dimension, dim=1 because dim=0 -> N (batch size)\n",
    "        concat_x = torch.cat((crop_fmap, deconv_ret), dim=1)\n",
    "\n",
    "        return self.double_conv(concat_x)\n",
    "\n",
    "class UNet(nn.Module):\n",
    "    def __init__(self):\n",
    "        super().__init__()\n",
    "\n",
    "        self.max_pool = nn.MaxPool2d(kernel_size=2, stride=2)\n",
    "        \n",
    "        self.enc_block1 = EncoderBlock(3, 64)      \n",
    "        self.enc_block2 = EncoderBlock(64, 128)\n",
    "        self.enc_block3 = EncoderBlock(128, 256)\n",
    "        self.enc_block4 = EncoderBlock(256, 512)\n",
    "        self.enc_block5 = EncoderBlock(512, 1024)\n",
    "\n",
    "        self.dec_block1 = DecoderBlock(1024, 512)\n",
    "        self.dec_block2 = DecoderBlock(512, 256)\n",
    "        self.dec_block3 = DecoderBlock(256, 128)\n",
    "        self.dec_block4 = DecoderBlock(128, 64)\n",
    "\n",
    "        self.final_output = nn.Conv2d(64, 2, kernel_size=1)\n",
    "        \n",
    "    def forward(self, x):\n",
    "        \n",
    "        enc_out1 = self.enc_block1(x)\n",
    "        pooled_enc_out1 = self.max_pool(enc_out1)\n",
    "        \n",
    "        enc_out2 = self.enc_block2(pooled_enc_out1)\n",
    "        pooled_enc_out2 = self.max_pool(enc_out2)\n",
    "        \n",
    "        enc_out3 = self.enc_block3(pooled_enc_out2)\n",
    "        pooled_enc_out3 = self.max_pool(enc_out3)\n",
    "        \n",
    "        enc_out4 = self.enc_block4(pooled_enc_out3)\n",
    "        pooled_enc_out4 = self.max_pool(enc_out4)\n",
    "        \n",
    "        enc_out5 = self.enc_block5(pooled_enc_out4)\n",
    "\n",
    "        dec_out1 = self.dec_block1(enc_out5, enc_out4)\n",
    "        dec_out2 = self.dec_block2(dec_out1, enc_out3)\n",
    "        dec_out3 = self.dec_block3(dec_out2, enc_out2)\n",
    "        dec_out4 = self.dec_block4(dec_out3, enc_out1)\n",
    "\n",
    "        return self.final_output(dec_out4)\n"
   ]
  },
  {
   "cell_type": "code",
   "execution_count": 23,
   "id": "ffaba123-497e-4631-8f2b-dd30f74f2313",
   "metadata": {},
   "outputs": [],
   "source": [
    "def train_model(model, device, epochs, batch_size, learning_rate, weight_decay, momentum, val_percent):\n",
    "    dataset = CarvanaImageMaskingChallangeDataset()\n",
    "\n",
    "    n_val = int(len(dataset) * val_percent)\n",
    "    n_train = len(dataset) - n_val\n",
    "    print(\"Training set size:\", n_train)\n",
    "    print(\"Validation set size:\", n_val)\n",
    "    train_set, val_set = random_split(dataset, [n_train, n_val], torch.Generator().manual_seed(1337))\n",
    "\n",
    "    train_loader = DataLoader(train_set, batch_size=batch_size, num_workers=os.cpu_count(), pin_memory=True, shuffle=True)\n",
    "    val_loader = DataLoader(val_set, batch_size=batch_size, num_workers=os.cpu_count(), pin_memory=True, shuffle=False)\n",
    "\n",
    "    optimizer = optim.RMSprop(model.parameters(), lr=learning_rate, weight_decay=weight_decay, momentum=momentum, foreach=True)\n",
    "    scheduler = optim.lr_scheduler.ReduceLROnPlateau(optimizer, 'max', patience=5) # maximize IOU\n",
    "    criterion = nn.CrossEntropyLoss() # default reduction: the weighted mean of the output of LogSoftmax is taken\n",
    "\n",
    "    global_step = 0\n",
    "    for epoch in range(1, epochs+1):\n",
    "        model.train() # for BatchNorm\n",
    "\n",
    "        with tqdm(total=n_train, desc=f\"Epoch {epoch}/{epochs}\", unit=\"img\") as progress:\n",
    "            for batch in train_loader:\n",
    "                images = batch[\"image\"].to(device=device, dtype=torch.float32, memory_format=torch.channels_last)\n",
    "                masks = batch[\"mask\"].to(device=device, dtype=torch.long)\n",
    "\n",
    "                masks_pred = model(images)\n",
    "\n",
    "                masks_pred = nn.functional.interpolate(masks_pred, size=572, mode=\"bicubic\")\n",
    "                \n",
    "                loss = criterion(masks_pred, masks)\n",
    "                \n",
    "                iou = MulticlassJaccardIndex(num_classes=2, average=\"macro\").to(device=device) # Calculate statistics for each label and average them\n",
    "                loss += iou(masks_pred, masks).item()\n",
    "                \n",
    "                optimizer.zero_grad(set_to_none=True)\n",
    "\n",
    "                loss.backward()\n",
    "\n",
    "                optimizer.step()\n",
    "\n",
    "                # update number of remaining images\n",
    "                progress.update(images.shape[0])\n",
    "                progress.set_postfix(**{\"loss (batch)\" : loss.item()})\n",
    "                global_step += 1\n",
    "                \n",
    "                division_step = (n_train // (5 * batch_size))\n",
    "                if division_step > 0:\n",
    "                    if global_step % division_step == 0:\n",
    "                        val_score = 0\n",
    "                        with torch.inference_mode(): # disable gradient calculation\n",
    "                            model.eval() # for BatchNorm\n",
    "                            \n",
    "                            iou_score = 0\n",
    "                            \n",
    "                            for batch in tqdm(val_loader, total=len(val_loader), desc=\"Validation\", unit=\"batch\", leave=False):\n",
    "                                images = batch[\"image\"].to(device=device, dtype=torch.float32, memory_format=torch.channels_last)\n",
    "                                masks = batch[\"mask\"].to(device=device, dtype=torch.long)\n",
    "\n",
    "                                masks_pred = model(images)\n",
    "                                masks_pred = nn.functional.interpolate(masks_pred, size=572, mode=\"bicubic\")\n",
    "\n",
    "                                iou2 = MulticlassJaccardIndex(num_classes=2, average=\"macro\").to(device=device) # Calculate statistics for each label and average them\n",
    "                                iou_score += iou2(masks_pred, masks).item()\n",
    "                            \n",
    "                            val_score = iou_score / max(n_val, 1)\n",
    "                        scheduler.step(val_score)\n",
    "                        model.train()\n",
    "                "
   ]
  },
  {
   "cell_type": "code",
   "execution_count": null,
   "id": "d9068110-a928-4caf-9f00-54a692289d38",
   "metadata": {},
   "outputs": [],
   "source": [
    "#torch.cuda.empty_cache()\n",
    "\n",
    "device = torch.device(\"cuda\" if torch.cuda.is_available() else \"cpu\")\n",
    "assert torch.cuda.is_available() == True\n",
    "\n",
    "model = UNet()\n",
    "model = model.to(device=device, memory_format=torch.channels_last)\n",
    "\n",
    "#state_dict = torch.load(args.load, map_location=device)\n",
    "#del state_dict['mask_values']\n",
    "#model.load_state_dict(state_dict)\n",
    "\n",
    "train_model(\n",
    "    model=model,\n",
    "    device=device,\n",
    "    epochs=2,\n",
    "    batch_size=1,\n",
    "    learning_rate=1e-5,\n",
    "    weight_decay=1e-8,\n",
    "    momentum=0.999,\n",
    "    val_percent=0.1\n",
    ")\n",
    "\n"
   ]
  },
  {
   "cell_type": "code",
   "execution_count": 53,
   "id": "c5a1f2d7-f72a-453c-bf7f-d157c71bb012",
   "metadata": {},
   "outputs": [],
   "source": [
    "test_image=\"/home/jurica/Desktop/projekt/Pytorch-UNet/data/imgs/0ce66b539f52_04.jpg\"\n",
    "img_raw = Image.open(test_image)\n",
    "img = np.asarray(img_raw.resize((572,572), resample=Image.Resampling.BICUBIC))\n",
    "img = img.transpose((2, 0, 1))\n",
    "img = img / 255.0\n",
    "img_tensor = torch.tensor(img.copy()).float()\n",
    "img_tensor = img_tensor.unsqueeze(0)\n",
    "#print(img_tensor.shape)\n",
    "img_tensor = img_tensor.to(device=device, dtype=torch.float32)\n",
    "\n",
    "mask = None\n",
    "with torch.inference_mode(): # disable gradient calculation\n",
    "    output = model(img_tensor).cpu()\n",
    "    output = nn.functional.interpolate(output, size=572, mode=\"bicubic\")\n",
    "    mask = torch.sigmoid(output) > 0.5\n",
    "    mask = mask[0].long().squeeze().numpy()\n",
    "    "
   ]
  },
  {
   "cell_type": "code",
   "execution_count": 54,
   "id": "c76ab365-29db-4ef1-a98a-b640230d09b9",
   "metadata": {},
   "outputs": [
    {
     "data": {
      "text/plain": [
       "array([[[1, 1, 1, ..., 1, 1, 1],\n",
       "        [1, 1, 1, ..., 1, 1, 1],\n",
       "        [1, 1, 1, ..., 1, 1, 1],\n",
       "        ...,\n",
       "        [1, 1, 1, ..., 1, 1, 1],\n",
       "        [1, 1, 1, ..., 1, 1, 1],\n",
       "        [1, 1, 1, ..., 1, 1, 1]],\n",
       "\n",
       "       [[0, 0, 0, ..., 0, 0, 0],\n",
       "        [0, 0, 0, ..., 0, 0, 0],\n",
       "        [0, 0, 0, ..., 0, 0, 0],\n",
       "        ...,\n",
       "        [0, 0, 0, ..., 0, 0, 0],\n",
       "        [0, 0, 0, ..., 0, 0, 0],\n",
       "        [0, 0, 0, ..., 0, 0, 0]]])"
      ]
     },
     "execution_count": 54,
     "metadata": {},
     "output_type": "execute_result"
    }
   ],
   "source": [
    "mask"
   ]
  },
  {
   "cell_type": "code",
   "execution_count": 55,
   "id": "df60b148-0135-477d-b42e-14000ac0e52f",
   "metadata": {},
   "outputs": [],
   "source": [
    "def mask_to_image(mask: np.ndarray, mask_values):\n",
    "    if isinstance(mask_values[0], list):\n",
    "        out = np.zeros((mask.shape[-2], mask.shape[-1], len(mask_values[0])), dtype=np.uint8)\n",
    "    elif mask_values == [0, 1]:\n",
    "        out = np.zeros((mask.shape[-2], mask.shape[-1]), dtype=bool)\n",
    "    else:\n",
    "        out = np.zeros((mask.shape[-2], mask.shape[-1]), dtype=np.uint8)\n",
    "\n",
    "    if mask.ndim == 3:\n",
    "        mask = np.argmax(mask, axis=0)\n",
    "\n",
    "    for i, v in enumerate(mask_values):\n",
    "        out[mask == i] = v\n",
    "\n",
    "    return Image.fromarray(out)"
   ]
  },
  {
   "cell_type": "code",
   "execution_count": 56,
   "id": "4cc5904d-c38c-4731-9a80-7df0b7018207",
   "metadata": {},
   "outputs": [],
   "source": [
    "vv = mask_to_image(mask, [0,1])"
   ]
  },
  {
   "cell_type": "code",
   "execution_count": 57,
   "id": "f2984467-8422-4434-8d4e-88c5468659ff",
   "metadata": {},
   "outputs": [
    {
     "data": {
      "image/png": "[encoded data removed]",
      "text/plain": [
       "<PIL.Image.Image image mode=1 size=572x572>"
      ]
     },
     "execution_count": 57,
     "metadata": {},
     "output_type": "execute_result"
    }
   ],
   "source": [
    "vv"
   ]
  },
  {
   "cell_type": "code",
   "execution_count": null,
   "id": "e85e957b-851e-4701-a0d8-e0d5cf4e9451",
   "metadata": {},
   "outputs": [],
   "source": []
  }
 ],
 "metadata": {
  "kernelspec": {
   "display_name": "Python 3 (ipykernel)",
   "language": "python",
   "name": "python3"
  },
  "language_info": {
   "codemirror_mode": {
    "name": "ipython",
    "version": 3
   },
   "file_extension": ".py",
   "mimetype": "text/x-python",
   "name": "python",
   "nbconvert_exporter": "python",
   "pygments_lexer": "ipython3",
   "version": "3.10.12"
  }
 },
 "nbformat": 4,
 "nbformat_minor": 5
}
